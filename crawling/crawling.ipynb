{
 "cells": [
  {
   "cell_type": "code",
   "execution_count": 1,
   "metadata": {},
   "outputs": [],
   "source": [
    "# 네이버에서 검색어 입력받아 검색 한 후 블로그 메뉴를 선택하고\n",
    "# 오른쪽에 있는 검색옵션 버튼을 눌러서\n",
    "# 정렬 방식과 기간을 입력하기\n",
    "\n",
    "#Step 0. 필요한 모듈과 라이브러리를 로딩합니다.\n",
    "import sys # 시스템\n",
    "import os  # 시스템\n",
    "import re  # 정규표현식\n",
    "\n",
    "import pandas as pd  # 판다스 : 데이터분석 라이브러리\n",
    "import numpy as np   # 넘파이 : 숫자, 행렬 데이터 라이브러리\n",
    "\n",
    "from bs4 import BeautifulSoup    # html 데이터를 전처리\n",
    "from selenium import webdriver   # 웹 브라우저 자동화\n",
    "from selenium.webdriver.common.keys import Keys\n",
    "import chromedriver_autoinstaller\n",
    "\n",
    "import time    # 서버와 통신할 때 중간중간 시간 지연. 보통은 1초\n",
    "from tqdm import tqdm_notebook   # for문 돌릴 때 진행상황을 %게이지로 알려준다.\n",
    "\n",
    "# 워닝 무시\n",
    "import warnings\n",
    "warnings.filterwarnings('ignore')"
   ]
  },
  {
   "cell_type": "code",
   "execution_count": 10,
   "metadata": {},
   "outputs": [],
   "source": [
    "import chromedriver_autoinstaller\n",
    "chrome_path = chromedriver_autoinstaller.install()\n",
    "driver = webdriver.Chrome(chrome_path)\n",
    "\n",
    "driver.get('https://www.lotteon.com/search/render/render.ecn?render=nqapi&platform=pc&collection_id=9&u9=navigate&u8=FC01000000&login=Y&mallId=1')\n",
    "time.sleep(2)  "
   ]
  },
  {
   "cell_type": "code",
   "execution_count": 36,
   "metadata": {},
   "outputs": [
    {
     "name": "stdout",
     "output_type": "stream",
     "text": [
      "과일\n",
      "채소\n",
      "쌀/잡곡/견과\n",
      "수산/건어물\n",
      "정육/계란\n",
      "우유/유제품\n",
      "냉장/냉동/간편식\n",
      "김치/반찬\n",
      "생수/음료/주류\n",
      "커피/원두/차\n",
      "과자/디저트/아이스크림\n",
      "면류/통조림\n",
      "소스/오일/장류\n",
      "건강/다이어트식품\n"
     ]
    }
   ],
   "source": [
    "product = driver.find_elements_by_css_selector(' .srchFilterAccordionPanel .srchFilterOptions')\n",
    "for i in range(0, len(product)):\n",
    "    print(product[i].text)"
   ]
  },
  {
   "cell_type": "code",
   "execution_count": 59,
   "metadata": {},
   "outputs": [
    {
     "data": {
      "text/html": [
       "<div>\n",
       "<style scoped>\n",
       "    .dataframe tbody tr th:only-of-type {\n",
       "        vertical-align: middle;\n",
       "    }\n",
       "\n",
       "    .dataframe tbody tr th {\n",
       "        vertical-align: top;\n",
       "    }\n",
       "\n",
       "    .dataframe thead th {\n",
       "        text-align: right;\n",
       "    }\n",
       "</style>\n",
       "<table border=\"1\" class=\"dataframe\">\n",
       "  <thead>\n",
       "    <tr style=\"text-align: right;\">\n",
       "      <th></th>\n",
       "      <th>category</th>\n",
       "    </tr>\n",
       "  </thead>\n",
       "  <tbody>\n",
       "    <tr>\n",
       "      <th>0</th>\n",
       "      <td>과일</td>\n",
       "    </tr>\n",
       "    <tr>\n",
       "      <th>1</th>\n",
       "      <td>채소</td>\n",
       "    </tr>\n",
       "    <tr>\n",
       "      <th>2</th>\n",
       "      <td>쌀/잡곡/견과</td>\n",
       "    </tr>\n",
       "    <tr>\n",
       "      <th>3</th>\n",
       "      <td>수산/건어물</td>\n",
       "    </tr>\n",
       "    <tr>\n",
       "      <th>4</th>\n",
       "      <td>정육/계란</td>\n",
       "    </tr>\n",
       "    <tr>\n",
       "      <th>5</th>\n",
       "      <td>우유/유제품</td>\n",
       "    </tr>\n",
       "    <tr>\n",
       "      <th>6</th>\n",
       "      <td>냉장/냉동/간편식</td>\n",
       "    </tr>\n",
       "    <tr>\n",
       "      <th>7</th>\n",
       "      <td>김치/반찬</td>\n",
       "    </tr>\n",
       "    <tr>\n",
       "      <th>8</th>\n",
       "      <td>생수/음료/주류</td>\n",
       "    </tr>\n",
       "    <tr>\n",
       "      <th>9</th>\n",
       "      <td>커피/원두/차</td>\n",
       "    </tr>\n",
       "    <tr>\n",
       "      <th>10</th>\n",
       "      <td>과자/디저트/아이스크림</td>\n",
       "    </tr>\n",
       "    <tr>\n",
       "      <th>11</th>\n",
       "      <td>면류/통조림</td>\n",
       "    </tr>\n",
       "    <tr>\n",
       "      <th>12</th>\n",
       "      <td>소스/오일/장류</td>\n",
       "    </tr>\n",
       "    <tr>\n",
       "      <th>13</th>\n",
       "      <td>건강/다이어트식품</td>\n",
       "    </tr>\n",
       "  </tbody>\n",
       "</table>\n",
       "</div>"
      ],
      "text/plain": [
       "        category\n",
       "0             과일\n",
       "1             채소\n",
       "2        쌀/잡곡/견과\n",
       "3         수산/건어물\n",
       "4          정육/계란\n",
       "5         우유/유제품\n",
       "6      냉장/냉동/간편식\n",
       "7          김치/반찬\n",
       "8       생수/음료/주류\n",
       "9        커피/원두/차\n",
       "10  과자/디저트/아이스크림\n",
       "11        면류/통조림\n",
       "12      소스/오일/장류\n",
       "13     건강/다이어트식품"
      ]
     },
     "execution_count": 59,
     "metadata": {},
     "output_type": "execute_result"
    }
   ],
   "source": [
    "product = driver.find_elements_by_css_selector(' .srchFilterAccordionPanel .srchFilterOptions')\n",
    "product_list = str(product[0].text).split('\\n')[:]\n",
    "\n",
    "category = []\n",
    "\n",
    "for m in product_list:\n",
    "    temp = m.split('\\n')\n",
    "    category.append(temp[0])\n",
    "    \n",
    "df = pd.DataFrame(data=[category])\n",
    "\n",
    "df = df.T\n",
    "\n",
    "df.columns = ([\"category\"])\n",
    "\n",
    "df"
   ]
  },
  {
   "cell_type": "code",
   "execution_count": 61,
   "metadata": {},
   "outputs": [
    {
     "data": {
      "text/plain": [
       "14"
      ]
     },
     "execution_count": 61,
     "metadata": {},
     "output_type": "execute_result"
    }
   ],
   "source": [
    "len(product_list)"
   ]
  },
  {
   "cell_type": "code",
   "execution_count": 62,
   "metadata": {},
   "outputs": [],
   "source": [
    "\n",
    "for i in range(1,len(product_list)):\n",
    "    # 식품 카테고리 순서대로 들어가기\n",
    "    driver.find_element_by_xpath(f'//*[@id=\"content\"]/div/section/div[1]/section[2]/ul[2]/li[2]/div/ul/li[{i}]/a/span').click()\n",
    "    # 뒤로가기\n",
    "    driver.find_element_by_xpath('//*[@id=\"content\"]/div/section/div[1]/section[2]/ul[2]/li[2]/div/div/a').click()"
   ]
  },
  {
   "cell_type": "code",
   "execution_count": null,
   "metadata": {},
   "outputs": [],
   "source": []
  },
  {
   "cell_type": "code",
   "execution_count": null,
   "metadata": {},
   "outputs": [],
   "source": [
    "과일 - //*[@id=\"content\"]/div/section/div[1]/section[2]/ul[2]/li[2]/div/ul/li[16]/a\n",
    "채소 - //*[@id=\"content\"]/div/section/div[1]/section[2]/ul[2]/li[2]/div/ul/li[15]/a"
   ]
  }
 ],
 "metadata": {
  "kernelspec": {
   "display_name": "Python 3.8.13 ('base')",
   "language": "python",
   "name": "python3"
  },
  "language_info": {
   "codemirror_mode": {
    "name": "ipython",
    "version": 3
   },
   "file_extension": ".py",
   "mimetype": "text/x-python",
   "name": "python",
   "nbconvert_exporter": "python",
   "pygments_lexer": "ipython3",
   "version": "3.8.13"
  },
  "orig_nbformat": 4,
  "vscode": {
   "interpreter": {
    "hash": "ad2bdc8ecc057115af97d19610ffacc2b4e99fae6737bb82f5d7fb13d2f2c186"
   }
  }
 },
 "nbformat": 4,
 "nbformat_minor": 2
}
